{
 "cells": [
  {
   "cell_type": "code",
   "execution_count": 1,
   "metadata": {},
   "outputs": [
    {
     "name": "stdout",
     "output_type": "stream",
     "text": [
      "torch.Size([10000, 3, 32, 32])\n"
     ]
    },
    {
     "name": "stderr",
     "output_type": "stream",
     "text": [
      "10000it [00:05, 1894.44it/s]"
     ]
    },
    {
     "name": "stdout",
     "output_type": "stream",
     "text": [
      "saved_imgs: 1000\n"
     ]
    },
    {
     "name": "stderr",
     "output_type": "stream",
     "text": [
      "\n"
     ]
    }
   ],
   "source": [
    "import os \n",
    "import torch\n",
    "import torchvision\n",
    "from torchvision.utils import save_image\n",
    "from tqdm import tqdm\n",
    "\n",
    "@torch.no_grad()\n",
    "def save_img_batch(img_batch, batch_size,\n",
    "                   batch_id, num_images, saved_imgs,\n",
    "                   base_dir,imgs_per_folder=1000):\n",
    "    for idx, img in tqdm(enumerate(img_batch)):\n",
    "        global_index = batch_size * batch_id + idx\n",
    "        save_path = os.path.join(base_dir, f'{global_index-global_index%1000:07d}')\n",
    "        os.makedirs(save_path,exist_ok=True)\n",
    "        \n",
    "        if global_index < num_images:\n",
    "            img_path = os.path.join(save_path, f'{global_index:07d}.png')\n",
    "            if saved_imgs<imgs_per_folder:\n",
    "                save_image(img.clamp(0.0, 1.0), img_path)\n",
    "                saved_imgs+=1\n",
    "            else:\n",
    "                img_path = os.path.join(save_path,  f'{global_index:07d}.png')\n",
    "                save_image(img.clamp(0.0, 1.0), img_path)\n",
    "                saved_imgs=1\n",
    "    return saved_imgs\n",
    "\n",
    "testset = torchvision.datasets.CIFAR10(root='./data', train=False, download=False, transform=torchvision.transforms.ToTensor())\n",
    "batch_size=len(testset)\n",
    "testloader = torch.utils.data.DataLoader(testset, batch_size=batch_size, shuffle=False, num_workers=10)\n",
    "\n",
    "\n",
    "batch_id = 0\n",
    "saved_imgs = 0\n",
    "num_images = len(testset)\n",
    "# Output dir to save the dataset i.e.:\n",
    "base_dir = \"./data/cifar10_test_set/\"\n",
    "img_batch, labels = next(iter(testloader))\n",
    "print(img_batch.shape)\n",
    "\n",
    "\n",
    "saved_imgs = save_img_batch(img_batch, batch_size,\n",
    "                   batch_id, num_images, saved_imgs,\n",
    "                   base_dir)\n",
    "print(\"saved_imgs:\", saved_imgs)"
   ]
  }
 ],
 "metadata": {
  "kernelspec": {
   "display_name": "dgm",
   "language": "python",
   "name": "python3"
  },
  "language_info": {
   "codemirror_mode": {
    "name": "ipython",
    "version": 3
   },
   "file_extension": ".py",
   "mimetype": "text/x-python",
   "name": "python",
   "nbconvert_exporter": "python",
   "pygments_lexer": "ipython3",
   "version": "3.10.0"
  }
 },
 "nbformat": 4,
 "nbformat_minor": 2
}
